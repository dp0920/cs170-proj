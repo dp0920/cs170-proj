{
 "cells": [
  {
   "cell_type": "code",
   "execution_count": 19,
   "metadata": {},
   "outputs": [],
   "source": [
    "import numpy as np\n",
    "\n",
    "N = [50, 100, 200]\n",
    "matrices = []\n",
    "for n in N:\n",
    "    b = np.random.randint(0,2000,size=(n,n))\n",
    "    b_symm = (b + b.T)/2\n",
    "    matrices.append(b_symm)"
   ]
  },
  {
   "cell_type": "code",
   "execution_count": 40,
   "metadata": {},
   "outputs": [
    {
     "data": {
      "text/plain": [
       "array([[114.,   0., 133., ...,   0.,   0.,   0.],\n",
       "       [  0.,   0.,   0., ...,   0.,   0.,   0.],\n",
       "       [  0., 142.,   0., ..., 134., 119.,   0.],\n",
       "       ...,\n",
       "       [  0.,   0.,   0., ...,   0.,   0.,   0.],\n",
       "       [  0., 107.,   0., ...,   0.,   0., 115.],\n",
       "       [  0.,   0.,   0., ...,   0.,   0.,   0.]])"
      ]
     },
     "execution_count": 40,
     "metadata": {},
     "output_type": "execute_result"
    }
   ],
   "source": [
    "from scipy.sparse import random\n",
    "from scipy import stats\n",
    "\n",
    "class CustomRandomState(object):\n",
    "    def randint(self, k):\n",
    "        i = np.random.randint(k)\n",
    "        return i - i % 2\n",
    "rs = CustomRandomState()\n",
    "rvs = stats.poisson(100, loc=20).rvs\n",
    "S = random(50, 50, density=0.2, random_state=rs, data_rvs=rvs)\n",
    "S.A"
   ]
  },
  {
   "cell_type": "markdown",
   "metadata": {},
   "source": [
    "##### "
   ]
  },
  {
   "cell_type": "code",
   "execution_count": null,
   "metadata": {},
   "outputs": [],
   "source": []
  }
 ],
 "metadata": {
  "kernelspec": {
   "display_name": "Python 3",
   "language": "python",
   "name": "python3"
  },
  "language_info": {
   "codemirror_mode": {
    "name": "ipython",
    "version": 3
   },
   "file_extension": ".py",
   "mimetype": "text/x-python",
   "name": "python",
   "nbconvert_exporter": "python",
   "pygments_lexer": "ipython3",
   "version": "3.6.4"
  }
 },
 "nbformat": 4,
 "nbformat_minor": 2
}
